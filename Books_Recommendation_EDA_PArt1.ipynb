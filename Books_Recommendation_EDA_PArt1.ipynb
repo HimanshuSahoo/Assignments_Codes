{
  "nbformat": 4,
  "nbformat_minor": 0,
  "metadata": {
    "kernelspec": {
      "display_name": "Python 3",
      "language": "python",
      "name": "python3"
    },
    "language_info": {
      "codemirror_mode": {
        "name": "ipython",
        "version": 3
      },
      "file_extension": ".py",
      "mimetype": "text/x-python",
      "name": "python",
      "nbconvert_exporter": "python",
      "pygments_lexer": "ipython3",
      "version": "3.8.5"
    },
    "colab": {
      "name": "Books_Recommendation_EDA PArt1.ipynb",
      "provenance": [],
      "include_colab_link": true
    }
  },
  "cells": [
    {
      "cell_type": "markdown",
      "metadata": {
        "id": "view-in-github",
        "colab_type": "text"
      },
      "source": [
        "<a href=\"https://colab.research.google.com/github/HimanshuSahoo/Assignments_Codes/blob/main/Books_Recommendation_EDA_PArt1.ipynb\" target=\"_parent\"><img src=\"https://colab.research.google.com/assets/colab-badge.svg\" alt=\"Open In Colab\"/></a>"
      ]
    },
    {
      "cell_type": "code",
      "metadata": {
        "id": "pzeBdK8Ke69k"
      },
      "source": [
        "import pandas as pd\n",
        "import numpy as np\n",
        "import matplotlib.pyplot as plt\n",
        "%matplotlib inline"
      ],
      "execution_count": null,
      "outputs": []
    },
    {
      "cell_type": "code",
      "metadata": {
        "id": "EvvVJ2RPe69p",
        "outputId": "2318f7ea-2e76-405b-c977-dd10586aaa00"
      },
      "source": [
        "books_data = pd.read_csv(\"D:/P79 G2/P79-G2-Private-Repo-main/P79-G2-Private-Repo-main/books_data_40.csv\")\n",
        "books_data.head()"
      ],
      "execution_count": null,
      "outputs": [
        {
          "data": {
            "text/html": [
              "<div>\n",
              "<style scoped>\n",
              "    .dataframe tbody tr th:only-of-type {\n",
              "        vertical-align: middle;\n",
              "    }\n",
              "\n",
              "    .dataframe tbody tr th {\n",
              "        vertical-align: top;\n",
              "    }\n",
              "\n",
              "    .dataframe thead th {\n",
              "        text-align: right;\n",
              "    }\n",
              "</style>\n",
              "<table border=\"1\" class=\"dataframe\">\n",
              "  <thead>\n",
              "    <tr style=\"text-align: right;\">\n",
              "      <th></th>\n",
              "      <th>Unnamed: 0</th>\n",
              "      <th>title</th>\n",
              "      <th>author</th>\n",
              "      <th>average_rating</th>\n",
              "      <th>genre</th>\n",
              "      <th>description</th>\n",
              "    </tr>\n",
              "  </thead>\n",
              "  <tbody>\n",
              "    <tr>\n",
              "      <th>0</th>\n",
              "      <td>0</td>\n",
              "      <td>To Kill a Mockingbird</td>\n",
              "      <td>Harper Lee</td>\n",
              "      <td>4.27</td>\n",
              "      <td>Classics</td>\n",
              "      <td>The unforgettable novel of a childhood in a sl...</td>\n",
              "    </tr>\n",
              "    <tr>\n",
              "      <th>1</th>\n",
              "      <td>1</td>\n",
              "      <td>Pride and Prejudice</td>\n",
              "      <td>Jane Austen</td>\n",
              "      <td>4.27</td>\n",
              "      <td>Classics</td>\n",
              "      <td>Alternate cover edition of ISBN 9780679783268S...</td>\n",
              "    </tr>\n",
              "    <tr>\n",
              "      <th>2</th>\n",
              "      <td>2</td>\n",
              "      <td>The Diary of a Young Girl</td>\n",
              "      <td>Anne Frank</td>\n",
              "      <td>4.17</td>\n",
              "      <td>Nonfiction</td>\n",
              "      <td>Discovered in the attic in which she spent the...</td>\n",
              "    </tr>\n",
              "    <tr>\n",
              "      <th>3</th>\n",
              "      <td>3</td>\n",
              "      <td>Animal Farm</td>\n",
              "      <td>George Orwell</td>\n",
              "      <td>3.97</td>\n",
              "      <td>Classics</td>\n",
              "      <td>Librarian's note: There is an Alternate Cover ...</td>\n",
              "    </tr>\n",
              "    <tr>\n",
              "      <th>4</th>\n",
              "      <td>4</td>\n",
              "      <td>The Little Prince</td>\n",
              "      <td>Antoine de Saint-Exupéry</td>\n",
              "      <td>4.31</td>\n",
              "      <td>Classics</td>\n",
              "      <td>A pilot stranded in the desert awakes one morn...</td>\n",
              "    </tr>\n",
              "  </tbody>\n",
              "</table>\n",
              "</div>"
            ],
            "text/plain": [
              "   Unnamed: 0                      title                    author  \\\n",
              "0           0      To Kill a Mockingbird                Harper Lee   \n",
              "1           1        Pride and Prejudice               Jane Austen   \n",
              "2           2  The Diary of a Young Girl                Anne Frank   \n",
              "3           3                Animal Farm             George Orwell   \n",
              "4           4          The Little Prince  Antoine de Saint-Exupéry   \n",
              "\n",
              "   average_rating       genre  \\\n",
              "0            4.27    Classics   \n",
              "1            4.27    Classics   \n",
              "2            4.17  Nonfiction   \n",
              "3            3.97    Classics   \n",
              "4            4.31    Classics   \n",
              "\n",
              "                                         description  \n",
              "0  The unforgettable novel of a childhood in a sl...  \n",
              "1  Alternate cover edition of ISBN 9780679783268S...  \n",
              "2  Discovered in the attic in which she spent the...  \n",
              "3  Librarian's note: There is an Alternate Cover ...  \n",
              "4  A pilot stranded in the desert awakes one morn...  "
            ]
          },
          "execution_count": 2,
          "metadata": {},
          "output_type": "execute_result"
        }
      ]
    },
    {
      "cell_type": "code",
      "metadata": {
        "id": "1hf_5zwHe69q",
        "outputId": "6c93de25-affe-4aeb-bfef-fef3783ec999"
      },
      "source": [
        "books_data.shape"
      ],
      "execution_count": null,
      "outputs": [
        {
          "data": {
            "text/plain": [
              "(3352, 6)"
            ]
          },
          "execution_count": 3,
          "metadata": {},
          "output_type": "execute_result"
        }
      ]
    },
    {
      "cell_type": "code",
      "metadata": {
        "id": "rict9dCce69q",
        "outputId": "71cbb647-fbbb-48ff-8f9e-9c0285dce513"
      },
      "source": [
        "books_data = books_data.drop(['Unnamed: 0'],axis=True)\n",
        "books_data.head()"
      ],
      "execution_count": null,
      "outputs": [
        {
          "data": {
            "text/html": [
              "<div>\n",
              "<style scoped>\n",
              "    .dataframe tbody tr th:only-of-type {\n",
              "        vertical-align: middle;\n",
              "    }\n",
              "\n",
              "    .dataframe tbody tr th {\n",
              "        vertical-align: top;\n",
              "    }\n",
              "\n",
              "    .dataframe thead th {\n",
              "        text-align: right;\n",
              "    }\n",
              "</style>\n",
              "<table border=\"1\" class=\"dataframe\">\n",
              "  <thead>\n",
              "    <tr style=\"text-align: right;\">\n",
              "      <th></th>\n",
              "      <th>title</th>\n",
              "      <th>author</th>\n",
              "      <th>average_rating</th>\n",
              "      <th>genre</th>\n",
              "      <th>description</th>\n",
              "    </tr>\n",
              "  </thead>\n",
              "  <tbody>\n",
              "    <tr>\n",
              "      <th>0</th>\n",
              "      <td>To Kill a Mockingbird</td>\n",
              "      <td>Harper Lee</td>\n",
              "      <td>4.27</td>\n",
              "      <td>Classics</td>\n",
              "      <td>The unforgettable novel of a childhood in a sl...</td>\n",
              "    </tr>\n",
              "    <tr>\n",
              "      <th>1</th>\n",
              "      <td>Pride and Prejudice</td>\n",
              "      <td>Jane Austen</td>\n",
              "      <td>4.27</td>\n",
              "      <td>Classics</td>\n",
              "      <td>Alternate cover edition of ISBN 9780679783268S...</td>\n",
              "    </tr>\n",
              "    <tr>\n",
              "      <th>2</th>\n",
              "      <td>The Diary of a Young Girl</td>\n",
              "      <td>Anne Frank</td>\n",
              "      <td>4.17</td>\n",
              "      <td>Nonfiction</td>\n",
              "      <td>Discovered in the attic in which she spent the...</td>\n",
              "    </tr>\n",
              "    <tr>\n",
              "      <th>3</th>\n",
              "      <td>Animal Farm</td>\n",
              "      <td>George Orwell</td>\n",
              "      <td>3.97</td>\n",
              "      <td>Classics</td>\n",
              "      <td>Librarian's note: There is an Alternate Cover ...</td>\n",
              "    </tr>\n",
              "    <tr>\n",
              "      <th>4</th>\n",
              "      <td>The Little Prince</td>\n",
              "      <td>Antoine de Saint-Exupéry</td>\n",
              "      <td>4.31</td>\n",
              "      <td>Classics</td>\n",
              "      <td>A pilot stranded in the desert awakes one morn...</td>\n",
              "    </tr>\n",
              "  </tbody>\n",
              "</table>\n",
              "</div>"
            ],
            "text/plain": [
              "                       title                    author  average_rating  \\\n",
              "0      To Kill a Mockingbird                Harper Lee            4.27   \n",
              "1        Pride and Prejudice               Jane Austen            4.27   \n",
              "2  The Diary of a Young Girl                Anne Frank            4.17   \n",
              "3                Animal Farm             George Orwell            3.97   \n",
              "4          The Little Prince  Antoine de Saint-Exupéry            4.31   \n",
              "\n",
              "        genre                                        description  \n",
              "0    Classics  The unforgettable novel of a childhood in a sl...  \n",
              "1    Classics  Alternate cover edition of ISBN 9780679783268S...  \n",
              "2  Nonfiction  Discovered in the attic in which she spent the...  \n",
              "3    Classics  Librarian's note: There is an Alternate Cover ...  \n",
              "4    Classics  A pilot stranded in the desert awakes one morn...  "
            ]
          },
          "execution_count": 4,
          "metadata": {},
          "output_type": "execute_result"
        }
      ]
    },
    {
      "cell_type": "markdown",
      "metadata": {
        "id": "Rwb9Tpnne69r"
      },
      "source": [
        "#### Data Exploration"
      ]
    },
    {
      "cell_type": "code",
      "metadata": {
        "id": "GRqzhxete69s",
        "outputId": "bf554203-1426-4299-e7cf-5c2732104f9d"
      },
      "source": [
        "books_data.isnull().sum()"
      ],
      "execution_count": null,
      "outputs": [
        {
          "data": {
            "text/plain": [
              "title             0\n",
              "author            0\n",
              "average_rating    0\n",
              "genre             0\n",
              "description       0\n",
              "dtype: int64"
            ]
          },
          "execution_count": 5,
          "metadata": {},
          "output_type": "execute_result"
        }
      ]
    },
    {
      "cell_type": "code",
      "metadata": {
        "id": "_x1WsDTRe69t",
        "outputId": "47b6dc6f-7669-45da-988c-5f76e2c37c59"
      },
      "source": [
        "books_data.info()"
      ],
      "execution_count": null,
      "outputs": [
        {
          "name": "stdout",
          "output_type": "stream",
          "text": [
            "<class 'pandas.core.frame.DataFrame'>\n",
            "RangeIndex: 3352 entries, 0 to 3351\n",
            "Data columns (total 5 columns):\n",
            " #   Column          Non-Null Count  Dtype  \n",
            "---  ------          --------------  -----  \n",
            " 0   title           3352 non-null   object \n",
            " 1   author          3352 non-null   object \n",
            " 2   average_rating  3352 non-null   float64\n",
            " 3   genre           3352 non-null   object \n",
            " 4   description     3352 non-null   object \n",
            "dtypes: float64(1), object(4)\n",
            "memory usage: 131.1+ KB\n"
          ]
        }
      ]
    },
    {
      "cell_type": "code",
      "metadata": {
        "id": "MDButHiRe69t",
        "outputId": "985027d7-988a-4835-9a54-8c352eb9738e"
      },
      "source": [
        "books_data.describe()"
      ],
      "execution_count": null,
      "outputs": [
        {
          "data": {
            "text/html": [
              "<div>\n",
              "<style scoped>\n",
              "    .dataframe tbody tr th:only-of-type {\n",
              "        vertical-align: middle;\n",
              "    }\n",
              "\n",
              "    .dataframe tbody tr th {\n",
              "        vertical-align: top;\n",
              "    }\n",
              "\n",
              "    .dataframe thead th {\n",
              "        text-align: right;\n",
              "    }\n",
              "</style>\n",
              "<table border=\"1\" class=\"dataframe\">\n",
              "  <thead>\n",
              "    <tr style=\"text-align: right;\">\n",
              "      <th></th>\n",
              "      <th>average_rating</th>\n",
              "    </tr>\n",
              "  </thead>\n",
              "  <tbody>\n",
              "    <tr>\n",
              "      <th>count</th>\n",
              "      <td>3352.000000</td>\n",
              "    </tr>\n",
              "    <tr>\n",
              "      <th>mean</th>\n",
              "      <td>4.035200</td>\n",
              "    </tr>\n",
              "    <tr>\n",
              "      <th>std</th>\n",
              "      <td>0.261937</td>\n",
              "    </tr>\n",
              "    <tr>\n",
              "      <th>min</th>\n",
              "      <td>2.050000</td>\n",
              "    </tr>\n",
              "    <tr>\n",
              "      <th>25%</th>\n",
              "      <td>3.877500</td>\n",
              "    </tr>\n",
              "    <tr>\n",
              "      <th>50%</th>\n",
              "      <td>4.050000</td>\n",
              "    </tr>\n",
              "    <tr>\n",
              "      <th>75%</th>\n",
              "      <td>4.220000</td>\n",
              "    </tr>\n",
              "    <tr>\n",
              "      <th>max</th>\n",
              "      <td>4.970000</td>\n",
              "    </tr>\n",
              "  </tbody>\n",
              "</table>\n",
              "</div>"
            ],
            "text/plain": [
              "       average_rating\n",
              "count     3352.000000\n",
              "mean         4.035200\n",
              "std          0.261937\n",
              "min          2.050000\n",
              "25%          3.877500\n",
              "50%          4.050000\n",
              "75%          4.220000\n",
              "max          4.970000"
            ]
          },
          "execution_count": 7,
          "metadata": {},
          "output_type": "execute_result"
        }
      ]
    },
    {
      "cell_type": "code",
      "metadata": {
        "id": "JayPACw2e69u",
        "outputId": "9e5e1525-d250-4283-f5e3-31795e5bb050"
      },
      "source": [
        "books_data.duplicated().sum()"
      ],
      "execution_count": null,
      "outputs": [
        {
          "data": {
            "text/plain": [
              "16"
            ]
          },
          "execution_count": 8,
          "metadata": {},
          "output_type": "execute_result"
        }
      ]
    },
    {
      "cell_type": "code",
      "metadata": {
        "id": "9AsuW7Ywe69u",
        "outputId": "9af8197a-ae48-4c65-b0f1-edf824cdfe9c"
      },
      "source": [
        "df = books_data.drop_duplicates()\n",
        "df.shape"
      ],
      "execution_count": null,
      "outputs": [
        {
          "data": {
            "text/plain": [
              "(3336, 5)"
            ]
          },
          "execution_count": 9,
          "metadata": {},
          "output_type": "execute_result"
        }
      ]
    },
    {
      "cell_type": "code",
      "metadata": {
        "id": "rDDv2cN6e69v",
        "outputId": "9b5a44e2-f0b8-4e3c-a851-ea9fcf1d7f60"
      },
      "source": [
        "df['genre'].value_counts()"
      ],
      "execution_count": null,
      "outputs": [
        {
          "data": {
            "text/plain": [
              "Fiction        802\n",
              "Nonfiction     391\n",
              "Fantasy        324\n",
              "Classics       302\n",
              "Young Adult    182\n",
              "              ... \n",
              "Design           1\n",
              "Literature       1\n",
              "Modern           1\n",
              "Apocalyptic      1\n",
              "Marriage         1\n",
              "Name: genre, Length: 77, dtype: int64"
            ]
          },
          "execution_count": 10,
          "metadata": {},
          "output_type": "execute_result"
        }
      ]
    },
    {
      "cell_type": "code",
      "metadata": {
        "id": "yFpFdZGae69v",
        "outputId": "a8ca79d1-be3a-42df-ad35-7e361a6d3da4"
      },
      "source": [
        "df['genre'].value_counts().plot(x='genre', y='count', kind='bar', figsize=(15,5))"
      ],
      "execution_count": null,
      "outputs": [
        {
          "data": {
            "text/plain": [
              "<AxesSubplot:>"
            ]
          },
          "execution_count": 11,
          "metadata": {},
          "output_type": "execute_result"
        },
        {
          "data": {
            "image/png": "[encoded data removed]",
            "text/plain": [
              "<Figure size 1080x360 with 1 Axes>"
            ]
          },
          "metadata": {
            "needs_background": "light"
          },
          "output_type": "display_data"
        }
      ]
    },
    {
      "cell_type": "code",
      "metadata": {
        "id": "nZVntbP6e69w",
        "outputId": "75d76d2b-ac15-4978-a045-f2d33df4a7ad"
      },
      "source": [
        "# Printing the book title and description randomly\n",
        "print(df['title'][50])\n",
        "print(df['description'][50])"
      ],
      "execution_count": null,
      "outputs": [
        {
          "name": "stdout",
          "output_type": "stream",
          "text": [
            "The Adventures of Tom Sawyer\n",
            "The Adventures of Tom Sawyer revolves around the youthful adventures of the novel's schoolboy protagonist, Thomas Sawyer, whose reputation precedes him for causing mischief and strife. Tom lives with his Aunt Polly, half-brother Sid, and cousin Mary in the quaint town of St. Petersburg, just off the shore of the Mississippi River. St. Petersburg is described as a typical s\n",
            "The Adventures of Tom Sawyer revolves around the youthful adventures of the novel's schoolboy protagonist, Thomas Sawyer, whose reputation precedes him for causing mischief and strife. Tom lives with his Aunt Polly, half-brother Sid, and cousin Mary in the quaint town of St. Petersburg, just off the shore of the Mississippi River. St. Petersburg is described as a typical small-town atmosphere where the Christian faith is predominant, the social network is close-knit, and familiarity resides.  Unlike his brother Sid, Tom receives \"lickings\" from his Aunt Polly; ever the mischief-maker, would rather play hooky than attend school and often sneaks out his bedroom window at night to adventure with his friend, Huckleberry Finn ­ the town's social outcast. Tom, despite his dread of schooling, is extremely clever and would normally get away with his pranks if Sid were not such a \"tattle-tale.\"  As punishment for skipping school to go swimming, Aunt Polly assigns Tom the chore of whitewashing the fence surrounding the house. In a brilliant scheme, Tom is able to con the neighborhood boys into completing the chore for him, managing to convince them of the joys of whitewashing. At school, Tom is equally as flamboyant, and attracts attention by chasing other boys, yelling, and running around. With his usual antics, Tom attempts to catch the eye of Becky Thatcher, a new girl in town, and persuades her to get \"engaged\" by kissing him. But their romance collapses when she learns Tom has been \"engaged\" previously to Amy Lawrence. Shortly after Becky shuns him, he accompanies Huckleberry Finn to the graveyard at night, where they witness the murder of Dr. Robinson.Excerpt:\"TOM!\" No answer. \"TOM!\" No answer. \"What's gone with that boy,  I wonder? You TOM!\" No answer. The old lady pulled her spectacles down and looked over them about the room; then she put them up and looked out under them. She seldom or never looked through them for so small a thing as a boy; they were her state pair, the pride of her heart, and were built for \"style,\" not service—she could have seen through a pair of stove-lids just as well. She looked perplexed for a moment, and then said, not fiercely, but still loud enough for the furniture to hear: \"Well, I lay if I get hold of you I'll—\" She did not finish, for by this time she was bending down and punching under the bed with the broom, and so she needed breath to punctuate the punches with. She resurrected nothing but the cat. \"I never did see the beat of that boy!\"\n",
            "...more\n"
          ]
        }
      ]
    },
    {
      "cell_type": "code",
      "metadata": {
        "id": "frEtOenAe69w",
        "outputId": "debc2d9b-ddb1-48e2-bc5e-96fcd8223324"
      },
      "source": [
        "# Printing the book title and description randomly\n",
        "print(df['title'][1200])\n",
        "print(df['description'][1200])"
      ],
      "execution_count": null,
      "outputs": [
        {
          "name": "stdout",
          "output_type": "stream",
          "text": [
            "Gödel, Escher, Bach: An Eternal Golden Braid\n",
            "Douglas Hofstadter's book is concerned directly with the nature of “maps” or links between formal systems. However, according to Hofstadter, the formal system that underlies all mental activity transcends the system that supports it. If life can grow out of the formal chemical substrate of the cell, if consciousness can emerge out of a formal system of firing neurons, then\n",
            "Douglas Hofstadter's book is concerned directly with the nature of “maps” or links between formal systems. However, according to Hofstadter, the formal system that underlies all mental activity transcends the system that supports it. If life can grow out of the formal chemical substrate of the cell, if consciousness can emerge out of a formal system of firing neurons, then so too will computers attain human intelligence. Gödel, Escher, Bach is a wonderful exploration of fascinating ideas at the heart of cognitive science: meaning, reduction, recursion, and much more.\n",
            "...more\n"
          ]
        }
      ]
    },
    {
      "cell_type": "markdown",
      "metadata": {
        "id": "FgQO1D2ue69w"
      },
      "source": [
        "### Book description — Word count distribution"
      ]
    },
    {
      "cell_type": "code",
      "metadata": {
        "id": "F7B98Hg8e69w",
        "outputId": "ce5594e7-bcea-4af6-98b6-61d3b221998c"
      },
      "source": [
        "# Calculating the word count for book description\n",
        "df['word_count'] = df['description'].apply(lambda x: len(str(x).split()))\n",
        "# Plotting the word_count\n",
        "df['word_count'].plot(\n",
        "    kind = 'hist',\n",
        "    bins = 50,\n",
        "    figsize = (15,5), title = 'Word Count Distribution for book descriptions')"
      ],
      "execution_count": null,
      "outputs": [
        {
          "name": "stderr",
          "output_type": "stream",
          "text": [
            "<ipython-input-14-6b34ae67b02e>:2: SettingWithCopyWarning: \n",
            "A value is trying to be set on a copy of a slice from a DataFrame.\n",
            "Try using .loc[row_indexer,col_indexer] = value instead\n",
            "\n",
            "See the caveats in the documentation: https://pandas.pydata.org/pandas-docs/stable/user_guide/indexing.html#returning-a-view-versus-a-copy\n",
            "  df['word_count'] = df['description'].apply(lambda x: len(str(x).split()))\n"
          ]
        },
        {
          "data": {
            "text/plain": [
              "<AxesSubplot:title={'center':'Word Count Distribution for book descriptions'}, ylabel='Frequency'>"
            ]
          },
          "execution_count": 14,
          "metadata": {},
          "output_type": "execute_result"
        },
        {
          "data": {
            "image/png": "[encoded data removed]",
            "text/plain": [
              "<Figure size 1080x360 with 1 Axes>"
            ]
          },
          "metadata": {
            "needs_background": "light"
          },
          "output_type": "display_data"
        }
      ]
    },
    {
      "cell_type": "markdown",
      "metadata": {
        "id": "MhU3nABKe69x"
      },
      "source": [
        "We don’t have many lengthy book description. It is clear that goodreads.com provides short descriptions."
      ]
    },
    {
      "cell_type": "markdown",
      "metadata": {
        "id": "WsPYVZaPe69x"
      },
      "source": [
        "### The distribution of top part-of-speech tags in the book descriptions"
      ]
    },
    {
      "cell_type": "code",
      "metadata": {
        "id": "LldWu_Yme69x",
        "outputId": "8689b9bd-4b52-43b9-ac6d-45b02c13dd1b"
      },
      "source": [
        "from textblob import TextBlob\n",
        "blob = TextBlob(str(df['description']))\n",
        "pos_df = pd.DataFrame(blob.tags, columns=['word','pos'])\n",
        "pos_df"
      ],
      "execution_count": null,
      "outputs": [
        {
          "data": {
            "text/html": [
              "<div>\n",
              "<style scoped>\n",
              "    .dataframe tbody tr th:only-of-type {\n",
              "        vertical-align: middle;\n",
              "    }\n",
              "\n",
              "    .dataframe tbody tr th {\n",
              "        vertical-align: top;\n",
              "    }\n",
              "\n",
              "    .dataframe thead th {\n",
              "        text-align: right;\n",
              "    }\n",
              "</style>\n",
              "<table border=\"1\" class=\"dataframe\">\n",
              "  <thead>\n",
              "    <tr style=\"text-align: right;\">\n",
              "      <th></th>\n",
              "      <th>word</th>\n",
              "      <th>pos</th>\n",
              "    </tr>\n",
              "  </thead>\n",
              "  <tbody>\n",
              "    <tr>\n",
              "      <th>0</th>\n",
              "      <td>0</td>\n",
              "      <td>CD</td>\n",
              "    </tr>\n",
              "    <tr>\n",
              "      <th>1</th>\n",
              "      <td>The</td>\n",
              "      <td>DT</td>\n",
              "    </tr>\n",
              "    <tr>\n",
              "      <th>2</th>\n",
              "      <td>unforgettable</td>\n",
              "      <td>JJ</td>\n",
              "    </tr>\n",
              "    <tr>\n",
              "      <th>3</th>\n",
              "      <td>novel</td>\n",
              "      <td>NN</td>\n",
              "    </tr>\n",
              "    <tr>\n",
              "      <th>4</th>\n",
              "      <td>of</td>\n",
              "      <td>IN</td>\n",
              "    </tr>\n",
              "    <tr>\n",
              "      <th>...</th>\n",
              "      <td>...</td>\n",
              "      <td>...</td>\n",
              "    </tr>\n",
              "    <tr>\n",
              "      <th>95</th>\n",
              "      <td>description</td>\n",
              "      <td>NN</td>\n",
              "    </tr>\n",
              "    <tr>\n",
              "      <th>96</th>\n",
              "      <td>Length</td>\n",
              "      <td>NNP</td>\n",
              "    </tr>\n",
              "    <tr>\n",
              "      <th>97</th>\n",
              "      <td>3336</td>\n",
              "      <td>CD</td>\n",
              "    </tr>\n",
              "    <tr>\n",
              "      <th>98</th>\n",
              "      <td>dtype</td>\n",
              "      <td>NN</td>\n",
              "    </tr>\n",
              "    <tr>\n",
              "      <th>99</th>\n",
              "      <td>object</td>\n",
              "      <td>NN</td>\n",
              "    </tr>\n",
              "  </tbody>\n",
              "</table>\n",
              "<p>100 rows × 2 columns</p>\n",
              "</div>"
            ],
            "text/plain": [
              "             word  pos\n",
              "0               0   CD\n",
              "1             The   DT\n",
              "2   unforgettable   JJ\n",
              "3           novel   NN\n",
              "4              of   IN\n",
              "..            ...  ...\n",
              "95    description   NN\n",
              "96         Length  NNP\n",
              "97           3336   CD\n",
              "98          dtype   NN\n",
              "99         object   NN\n",
              "\n",
              "[100 rows x 2 columns]"
            ]
          },
          "execution_count": 15,
          "metadata": {},
          "output_type": "execute_result"
        }
      ]
    },
    {
      "cell_type": "code",
      "metadata": {
        "id": "07UfDpnQe69x",
        "outputId": "e3d29722-3b51-4757-e678-9ea600ad3d35"
      },
      "source": [
        "pos_df = pos_df.pos.value_counts()[:20]\n",
        "pos_df.plot(kind='bar', figsize=(15,5), title=\"Top 20 Part-of-Speech tagging for the book descriptions\" )"
      ],
      "execution_count": null,
      "outputs": [
        {
          "data": {
            "text/plain": [
              "<AxesSubplot:title={'center':'Top 20 Part-of-Speech tagging for the book descriptions'}>"
            ]
          },
          "execution_count": 16,
          "metadata": {},
          "output_type": "execute_result"
        },
        {
          "data": {
            "image/png": "[encoded data removed]",
            "text/plain": [
              "<Figure size 1080x360 with 1 Axes>"
            ]
          },
          "metadata": {
            "needs_background": "light"
          },
          "output_type": "display_data"
        }
      ]
    },
    {
      "cell_type": "markdown",
      "metadata": {
        "id": "QeScr3V9e69x"
      },
      "source": [
        "### Bigram distribution for the book description"
      ]
    },
    {
      "cell_type": "code",
      "metadata": {
        "id": "mVoIDarZe69y",
        "outputId": "f78eab05-9ef4-46e9-95de-f4e9b1cbd4f6"
      },
      "source": [
        "from nltk.corpus import stopwords\n",
        "from sklearn.feature_extraction.text import TfidfVectorizer\n",
        "\n",
        "#Converting text descriptions into vectors using TF-IDF using Bigram\n",
        "tfidf = TfidfVectorizer(ngram_range=(2, 2), stop_words='english', lowercase = False)\n",
        "tfidf_matrix = tfidf.fit_transform(df['description'])\n",
        "total_words = tfidf_matrix.sum(axis=0)\n",
        "\n",
        "#Finding the word frequency\n",
        "freq = [(word, total_words[0, idx]) for word, idx in tfidf.vocabulary_.items()]\n",
        "freq =sorted(freq, key = lambda x: x[1], reverse=True)\n",
        "\n",
        "#converting into dataframe \n",
        "bigram = pd.DataFrame(freq)\n",
        "bigram.rename(columns = {0:'bigram', 1: 'count'}, inplace = True)\n",
        "\n",
        "#Taking first 20 records\n",
        "bigram = bigram.head(20)\n",
        "bigram"
      ],
      "execution_count": null,
      "outputs": [
        {
          "data": {
            "text/html": [
              "<div>\n",
              "<style scoped>\n",
              "    .dataframe tbody tr th:only-of-type {\n",
              "        vertical-align: middle;\n",
              "    }\n",
              "\n",
              "    .dataframe tbody tr th {\n",
              "        vertical-align: top;\n",
              "    }\n",
              "\n",
              "    .dataframe thead th {\n",
              "        text-align: right;\n",
              "    }\n",
              "</style>\n",
              "<table border=\"1\" class=\"dataframe\">\n",
              "  <thead>\n",
              "    <tr style=\"text-align: right;\">\n",
              "      <th></th>\n",
              "      <th>bigram</th>\n",
              "      <th>count</th>\n",
              "    </tr>\n",
              "  </thead>\n",
              "  <tbody>\n",
              "    <tr>\n",
              "      <th>0</th>\n",
              "      <td>year old</td>\n",
              "      <td>15.300285</td>\n",
              "    </tr>\n",
              "    <tr>\n",
              "      <th>1</th>\n",
              "      <td>New York</td>\n",
              "      <td>14.651494</td>\n",
              "    </tr>\n",
              "    <tr>\n",
              "      <th>2</th>\n",
              "      <td>York Times</td>\n",
              "      <td>8.745844</td>\n",
              "    </tr>\n",
              "    <tr>\n",
              "      <th>3</th>\n",
              "      <td>cover edition</td>\n",
              "      <td>7.516392</td>\n",
              "    </tr>\n",
              "    <tr>\n",
              "      <th>4</th>\n",
              "      <td>bestselling author</td>\n",
              "      <td>6.471661</td>\n",
              "    </tr>\n",
              "    <tr>\n",
              "      <th>5</th>\n",
              "      <td>World War</td>\n",
              "      <td>5.939310</td>\n",
              "    </tr>\n",
              "    <tr>\n",
              "      <th>6</th>\n",
              "      <td>best friend</td>\n",
              "      <td>5.914390</td>\n",
              "    </tr>\n",
              "    <tr>\n",
              "      <th>7</th>\n",
              "      <td>years ago</td>\n",
              "      <td>5.738231</td>\n",
              "    </tr>\n",
              "    <tr>\n",
              "      <th>8</th>\n",
              "      <td>young woman</td>\n",
              "      <td>5.396650</td>\n",
              "    </tr>\n",
              "    <tr>\n",
              "      <th>9</th>\n",
              "      <td>tells story</td>\n",
              "      <td>5.293565</td>\n",
              "    </tr>\n",
              "    <tr>\n",
              "      <th>10</th>\n",
              "      <td>alternate cover</td>\n",
              "      <td>4.995947</td>\n",
              "    </tr>\n",
              "    <tr>\n",
              "      <th>11</th>\n",
              "      <td>high school</td>\n",
              "      <td>4.858767</td>\n",
              "    </tr>\n",
              "    <tr>\n",
              "      <th>12</th>\n",
              "      <td>This book</td>\n",
              "      <td>4.833100</td>\n",
              "    </tr>\n",
              "    <tr>\n",
              "      <th>13</th>\n",
              "      <td>United States</td>\n",
              "      <td>4.676704</td>\n",
              "    </tr>\n",
              "    <tr>\n",
              "      <th>14</th>\n",
              "      <td>Times bestselling</td>\n",
              "      <td>4.534591</td>\n",
              "    </tr>\n",
              "    <tr>\n",
              "      <th>15</th>\n",
              "      <td>edition ISBN</td>\n",
              "      <td>4.328930</td>\n",
              "    </tr>\n",
              "    <tr>\n",
              "      <th>16</th>\n",
              "      <td>Pulitzer Prize</td>\n",
              "      <td>4.298623</td>\n",
              "    </tr>\n",
              "    <tr>\n",
              "      <th>17</th>\n",
              "      <td>Alternate cover</td>\n",
              "      <td>4.180092</td>\n",
              "    </tr>\n",
              "    <tr>\n",
              "      <th>18</th>\n",
              "      <td>The story</td>\n",
              "      <td>4.109902</td>\n",
              "    </tr>\n",
              "    <tr>\n",
              "      <th>19</th>\n",
              "      <td>award winning</td>\n",
              "      <td>3.930953</td>\n",
              "    </tr>\n",
              "  </tbody>\n",
              "</table>\n",
              "</div>"
            ],
            "text/plain": [
              "                bigram      count\n",
              "0             year old  15.300285\n",
              "1             New York  14.651494\n",
              "2           York Times   8.745844\n",
              "3        cover edition   7.516392\n",
              "4   bestselling author   6.471661\n",
              "5            World War   5.939310\n",
              "6          best friend   5.914390\n",
              "7            years ago   5.738231\n",
              "8          young woman   5.396650\n",
              "9          tells story   5.293565\n",
              "10     alternate cover   4.995947\n",
              "11         high school   4.858767\n",
              "12           This book   4.833100\n",
              "13       United States   4.676704\n",
              "14   Times bestselling   4.534591\n",
              "15        edition ISBN   4.328930\n",
              "16      Pulitzer Prize   4.298623\n",
              "17     Alternate cover   4.180092\n",
              "18           The story   4.109902\n",
              "19       award winning   3.930953"
            ]
          },
          "execution_count": 17,
          "metadata": {},
          "output_type": "execute_result"
        }
      ]
    },
    {
      "cell_type": "code",
      "metadata": {
        "id": "6mRuIu7ie69y",
        "outputId": "2abfea31-fe90-4026-9a00-aaf6631cfe22"
      },
      "source": [
        "#Plotting the bigram distribution\n",
        "bigram.plot(x ='bigram', y='count', kind = 'bar', title = \"Bigram disribution for the top 20 words in the book description\", figsize = (15,5))"
      ],
      "execution_count": null,
      "outputs": [
        {
          "data": {
            "text/plain": [
              "<AxesSubplot:title={'center':'Bigram disribution for the top 20 words in the book description'}, xlabel='bigram'>"
            ]
          },
          "execution_count": 29,
          "metadata": {},
          "output_type": "execute_result"
        },
        {
          "data": {
            "image/png": "[encoded data removed]",
            "text/plain": [
              "<Figure size 1080x360 with 1 Axes>"
            ]
          },
          "metadata": {
            "needs_background": "light"
          },
          "output_type": "display_data"
        }
      ]
    },
    {
      "cell_type": "markdown",
      "metadata": {
        "id": "iUbr3AA4e69y"
      },
      "source": [
        "### Trigram distribution for the book description"
      ]
    },
    {
      "cell_type": "code",
      "metadata": {
        "id": "0WmQPZn5e69y",
        "outputId": "c2a14806-6ba3-4d60-d874-5d8264d6da84"
      },
      "source": [
        "#Converting text descriptions into vectors using TF-IDF using Trigram\n",
        "tfidf = TfidfVectorizer(ngram_range=(3, 3), stop_words='english', lowercase = False)\n",
        "tfidf_matrix = tfidf.fit_transform(df['description'])\n",
        "total_words = tfidf_matrix.sum(axis=0)\n",
        "\n",
        "#Finding the word frequency\n",
        "freq = [(word, total_words[0, idx]) for word, idx in tfidf.vocabulary_.items()]\n",
        "freq =sorted(freq, key = lambda x: x[1], reverse=True)\n",
        "\n",
        "#converting into dataframe \n",
        "trigram = pd.DataFrame(freq)\n",
        "trigram.rename(columns = {0:'trigram', 1: 'count'}, inplace = True)\n",
        "\n",
        "#Taking first 20 records\n",
        "trigram = trigram.head(20)\n",
        "trigram"
      ],
      "execution_count": null,
      "outputs": [
        {
          "data": {
            "text/html": [
              "<div>\n",
              "<style scoped>\n",
              "    .dataframe tbody tr th:only-of-type {\n",
              "        vertical-align: middle;\n",
              "    }\n",
              "\n",
              "    .dataframe tbody tr th {\n",
              "        vertical-align: top;\n",
              "    }\n",
              "\n",
              "    .dataframe thead th {\n",
              "        text-align: right;\n",
              "    }\n",
              "</style>\n",
              "<table border=\"1\" class=\"dataframe\">\n",
              "  <thead>\n",
              "    <tr style=\"text-align: right;\">\n",
              "      <th></th>\n",
              "      <th>trigram</th>\n",
              "      <th>count</th>\n",
              "    </tr>\n",
              "  </thead>\n",
              "  <tbody>\n",
              "    <tr>\n",
              "      <th>0</th>\n",
              "      <td>New York Times</td>\n",
              "      <td>8.622413</td>\n",
              "    </tr>\n",
              "    <tr>\n",
              "      <th>1</th>\n",
              "      <td>York Times bestselling</td>\n",
              "      <td>4.504851</td>\n",
              "    </tr>\n",
              "    <tr>\n",
              "      <th>2</th>\n",
              "      <td>alternate cover edition</td>\n",
              "      <td>4.326905</td>\n",
              "    </tr>\n",
              "    <tr>\n",
              "      <th>3</th>\n",
              "      <td>World War II</td>\n",
              "      <td>3.759510</td>\n",
              "    </tr>\n",
              "    <tr>\n",
              "      <th>4</th>\n",
              "      <td>cover edition ISBN</td>\n",
              "      <td>3.742136</td>\n",
              "    </tr>\n",
              "    <tr>\n",
              "      <th>5</th>\n",
              "      <td>New York City</td>\n",
              "      <td>3.546020</td>\n",
              "    </tr>\n",
              "    <tr>\n",
              "      <th>6</th>\n",
              "      <td>Times bestselling author</td>\n",
              "      <td>3.415846</td>\n",
              "    </tr>\n",
              "    <tr>\n",
              "      <th>7</th>\n",
              "      <td>Alternate cover edition</td>\n",
              "      <td>3.293770</td>\n",
              "    </tr>\n",
              "    <tr>\n",
              "      <th>8</th>\n",
              "      <td>An alternate cover</td>\n",
              "      <td>2.924077</td>\n",
              "    </tr>\n",
              "    <tr>\n",
              "      <th>9</th>\n",
              "      <td>Pulitzer Prize winning</td>\n",
              "      <td>2.438539</td>\n",
              "    </tr>\n",
              "    <tr>\n",
              "      <th>10</th>\n",
              "      <td>York Times bestseller</td>\n",
              "      <td>2.352028</td>\n",
              "    </tr>\n",
              "    <tr>\n",
              "      <th>11</th>\n",
              "      <td>The New York</td>\n",
              "      <td>1.933944</td>\n",
              "    </tr>\n",
              "    <tr>\n",
              "      <th>12</th>\n",
              "      <td>year old boy</td>\n",
              "      <td>1.897757</td>\n",
              "    </tr>\n",
              "    <tr>\n",
              "      <th>13</th>\n",
              "      <td>From New York</td>\n",
              "      <td>1.597196</td>\n",
              "    </tr>\n",
              "    <tr>\n",
              "      <th>14</th>\n",
              "      <td>sixteen year old</td>\n",
              "      <td>1.499475</td>\n",
              "    </tr>\n",
              "    <tr>\n",
              "      <th>15</th>\n",
              "      <td>award winning author</td>\n",
              "      <td>1.488664</td>\n",
              "    </tr>\n",
              "    <tr>\n",
              "      <th>16</th>\n",
              "      <td>Alternate Cover Edition</td>\n",
              "      <td>1.412153</td>\n",
              "    </tr>\n",
              "    <tr>\n",
              "      <th>17</th>\n",
              "      <td>The New Yorker</td>\n",
              "      <td>1.410639</td>\n",
              "    </tr>\n",
              "    <tr>\n",
              "      <th>18</th>\n",
              "      <td>best selling author</td>\n",
              "      <td>1.404782</td>\n",
              "    </tr>\n",
              "    <tr>\n",
              "      <th>19</th>\n",
              "      <td>Prize winning author</td>\n",
              "      <td>1.404546</td>\n",
              "    </tr>\n",
              "  </tbody>\n",
              "</table>\n",
              "</div>"
            ],
            "text/plain": [
              "                     trigram     count\n",
              "0             New York Times  8.622413\n",
              "1     York Times bestselling  4.504851\n",
              "2    alternate cover edition  4.326905\n",
              "3               World War II  3.759510\n",
              "4         cover edition ISBN  3.742136\n",
              "5              New York City  3.546020\n",
              "6   Times bestselling author  3.415846\n",
              "7    Alternate cover edition  3.293770\n",
              "8         An alternate cover  2.924077\n",
              "9     Pulitzer Prize winning  2.438539\n",
              "10     York Times bestseller  2.352028\n",
              "11              The New York  1.933944\n",
              "12              year old boy  1.897757\n",
              "13             From New York  1.597196\n",
              "14          sixteen year old  1.499475\n",
              "15      award winning author  1.488664\n",
              "16   Alternate Cover Edition  1.412153\n",
              "17            The New Yorker  1.410639\n",
              "18       best selling author  1.404782\n",
              "19      Prize winning author  1.404546"
            ]
          },
          "execution_count": 18,
          "metadata": {},
          "output_type": "execute_result"
        }
      ]
    },
    {
      "cell_type": "code",
      "metadata": {
        "id": "NeUX814se69y",
        "outputId": "dcede097-2f0f-4c8b-ff4e-d7c13619d598"
      },
      "source": [
        "#Plotting the trigram distribution\n",
        "trigram.plot(x ='trigram', y='count', kind = 'bar', title = \"Trigram disribution for the top 20 words in the book description\", figsize = (15,5))"
      ],
      "execution_count": null,
      "outputs": [
        {
          "data": {
            "text/plain": [
              "<AxesSubplot:title={'center':'Trigram disribution for the top 20 words in the book description'}, xlabel='trigram'>"
            ]
          },
          "execution_count": 19,
          "metadata": {},
          "output_type": "execute_result"
        },
        {
          "data": {
            "image/png": "[encoded data removed]",
            "text/plain": [
              "<Figure size 1080x360 with 1 Axes>"
            ]
          },
          "metadata": {
            "needs_background": "light"
          },
          "output_type": "display_data"
        }
      ]
    }
  ]
}